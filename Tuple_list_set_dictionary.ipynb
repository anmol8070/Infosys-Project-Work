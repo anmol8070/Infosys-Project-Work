{
  "nbformat": 4,
  "nbformat_minor": 0,
  "metadata": {
    "colab": {
      "provenance": [],
      "authorship_tag": "ABX9TyPbZ9QBuVV8waY76JjwuhZ/",
      "include_colab_link": true
    },
    "kernelspec": {
      "name": "python3",
      "display_name": "Python 3"
    },
    "language_info": {
      "name": "python"
    }
  },
  "cells": [
    {
      "cell_type": "markdown",
      "metadata": {
        "id": "view-in-github",
        "colab_type": "text"
      },
      "source": [
        "<a href=\"https://colab.research.google.com/github/anmol8070/Infosys-Project-Work/blob/main/Tuple_list_set_dictionary.ipynb\" target=\"_parent\"><img src=\"https://colab.research.google.com/assets/colab-badge.svg\" alt=\"Open In Colab\"/></a>"
      ]
    },
    {
      "cell_type": "markdown",
      "source": [
        "Opps concept in python"
      ],
      "metadata": {
        "id": "7kseLqRgLJIk"
      }
    },
    {
      "cell_type": "markdown",
      "source": [
        "1.Class and Object: A class is a blueprint for objects, and an object is an instance of a class.\n",
        "\n",
        "2.Encapsulation: Wrapping data and methods that operate on the data within a class.\n",
        "\n",
        "3.Inheritance: Creating new classes from existing ones.\n",
        "\n",
        "4.Polymorphism: Allowing methods to behave differently based on the object calling them.\n",
        "\n",
        "5.Abstraction: Hiding implementation details and exposing only essential features."
      ],
      "metadata": {
        "id": "LkdHOJD7K_oW"
      }
    },
    {
      "cell_type": "code",
      "source": [
        "# Class and Object Example\n",
        "class Animal:\n",
        "    def __init__(self, name):\n",
        "        self.name = name  # Attribute\n",
        "\n",
        "    def speak(self):\n",
        "        return \"Some sound\"\n",
        "\n",
        "# Create an object (instance)\n",
        "dog = Animal(\"Dog\")\n",
        "print(dog.name)\n",
        "print(dog.speak())\n",
        "\n",
        "\n"
      ],
      "metadata": {
        "colab": {
          "base_uri": "https://localhost:8080/"
        },
        "id": "xOUijTUXKWwe",
        "outputId": "c54cde22-84c8-42ff-ef5f-7fd086308b21"
      },
      "execution_count": 9,
      "outputs": [
        {
          "output_type": "stream",
          "name": "stdout",
          "text": [
            "Dog makes a sound: Some sound\n"
          ]
        }
      ]
    },
    {
      "cell_type": "code",
      "source": [
        "# Inheritance Example\n",
        "class Animal:\n",
        "    def __init__(self, name):\n",
        "        self.name = name\n",
        "\n",
        "    def speak(self):\n",
        "        return \"Some sound\"\n",
        "\n",
        "class Dog(Animal):\n",
        "    def speak(self):\n",
        "        return \"Woof!\"\n",
        "dog = Dog(\"Buddy\")\n",
        "print(dog.name)\n",
        "print(dog.speak())\n"
      ],
      "metadata": {
        "colab": {
          "base_uri": "https://localhost:8080/"
        },
        "id": "zBU1YekmPHsF",
        "outputId": "3fd7527d-4c69-4c37-a69e-33e94ce2cb7c"
      },
      "execution_count": 11,
      "outputs": [
        {
          "output_type": "stream",
          "name": "stdout",
          "text": [
            "Buddy\n",
            "Woof!\n"
          ]
        }
      ]
    },
    {
      "cell_type": "code",
      "source": [
        "# Polymorphism Example\n",
        "class Dog:\n",
        "    def speak(self):\n",
        "        return \"Woof!\"\n",
        "\n",
        "class Cat:\n",
        "    def speak(self):\n",
        "        return \"Meow!\"\n",
        "\n",
        "dog = Dog()\n",
        "cat = Cat()\n",
        "\n",
        "print(dog.speak())\n",
        "print(cat.speak())\n"
      ],
      "metadata": {
        "colab": {
          "base_uri": "https://localhost:8080/"
        },
        "id": "H79OnH9DPahU",
        "outputId": "cb2dea1e-019d-48e7-920a-6038efc7b691"
      },
      "execution_count": 13,
      "outputs": [
        {
          "output_type": "stream",
          "name": "stdout",
          "text": [
            "Woof!\n",
            "Meow!\n"
          ]
        }
      ]
    },
    {
      "cell_type": "code",
      "source": [
        "# Encapsulation Example\n",
        "\n",
        "class Car:\n",
        "    def __init__(self, make, model):\n",
        "        self.make = make\n",
        "        self.__model = model\n",
        "\n",
        "    def get_model(self):\n",
        "        return self.__model\n",
        "\n",
        "    def set_model(self, model):\n",
        "        self.__model = model\n",
        "\n",
        "car = Car(\"Toyota\", \"Corolla\")\n",
        "\n",
        "print(car.make)\n",
        "\n",
        "print(car.get_model())\n",
        "\n",
        "car.set_model(\"Camry\")\n",
        "print(car.get_model())\n"
      ],
      "metadata": {
        "colab": {
          "base_uri": "https://localhost:8080/"
        },
        "id": "_aOWhpeoQGMR",
        "outputId": "5129d06d-64a6-43b9-9838-86c02f2bf692"
      },
      "execution_count": 20,
      "outputs": [
        {
          "output_type": "stream",
          "name": "stdout",
          "text": [
            "Toyota\n",
            "Corolla\n",
            "Camry\n"
          ]
        }
      ]
    },
    {
      "cell_type": "code",
      "source": [
        "# Abstraction Example\n",
        "\n",
        "from abc import ABC, abstractmethod\n",
        "\n",
        "# Abstract class\n",
        "class Animal(ABC):\n",
        "    @abstractmethod  # Abstract method\n",
        "    def speak(self):\n",
        "        pass\n",
        "\n",
        "# Concrete class that inherits from the abstract class\n",
        "class Dog(Animal):\n",
        "    def speak(self):  # Implementing the abstract method\n",
        "        return \"Woof!\"\n",
        "\n",
        "class Cat(Animal):\n",
        "    def speak(self):  # Implementing the abstract method\n",
        "        return \"Meow!\"\n",
        "\n",
        "# Create objects of the concrete classes\n",
        "dog = Dog()\n",
        "cat = Cat()\n",
        "\n",
        "# Call the implemented abstract method\n",
        "print(dog.speak())  # Output: Woof!\n",
        "print(cat.speak())  # Output: Meow!\n",
        "\n"
      ],
      "metadata": {
        "colab": {
          "base_uri": "https://localhost:8080/"
        },
        "id": "L9k2KhHmPiWt",
        "outputId": "3f3490cb-f592-4a2a-d4a8-cc16c2fdbbbe"
      },
      "execution_count": 21,
      "outputs": [
        {
          "output_type": "stream",
          "name": "stdout",
          "text": [
            "Woof!\n",
            "Meow!\n"
          ]
        }
      ]
    },
    {
      "cell_type": "markdown",
      "source": [
        "Tuple list sets Dictionary"
      ],
      "metadata": {
        "id": "P1AakoRBRLCM"
      }
    },
    {
      "cell_type": "markdown",
      "source": [
        "Tuple (Immutable, ordered)"
      ],
      "metadata": {
        "id": "bJyT4woGMHrI"
      }
    },
    {
      "cell_type": "code",
      "execution_count": null,
      "metadata": {
        "colab": {
          "base_uri": "https://localhost:8080/"
        },
        "id": "F2VZEP0vK0IL",
        "outputId": "141fd91d-b7db-4945-d2fc-3d7b0fb39191"
      },
      "outputs": [
        {
          "output_type": "stream",
          "name": "stdout",
          "text": [
            "(1, 2, 3)\n",
            "(1, 2, 3, 4)\n",
            "(1,)\n"
          ]
        }
      ],
      "source": [
        "t = (1, 2, 3)\n",
        "print(t)\n",
        "\n",
        "t = t + (4,)\n",
        "print(t)\n",
        "\n",
        "t = t[:1]\n",
        "print(t)\n"
      ]
    },
    {
      "cell_type": "markdown",
      "source": [
        "List (Mutable, ordered)"
      ],
      "metadata": {
        "id": "2wpJIS7hMGxI"
      }
    },
    {
      "cell_type": "code",
      "source": [
        "\n",
        "lst = [1, 2, 3]\n",
        "print(lst)\n",
        "\n",
        "\n",
        "lst.append(4)\n",
        "lst.insert(0, 10)\n",
        "print(lst)\n",
        "\n",
        "lst.remove(10)\n",
        "lst.pop()\n",
        "print(lst)\n",
        "\n",
        "\n",
        "\n"
      ],
      "metadata": {
        "colab": {
          "base_uri": "https://localhost:8080/"
        },
        "id": "mman3q8rMFp6",
        "outputId": "650393df-e262-4d0e-d77b-9e7e14bfb035"
      },
      "execution_count": null,
      "outputs": [
        {
          "output_type": "stream",
          "name": "stdout",
          "text": [
            "[1, 2, 3]\n",
            "[10, 1, 2, 3, 4]\n",
            "[1, 2, 3]\n"
          ]
        }
      ]
    },
    {
      "cell_type": "markdown",
      "source": [
        "sets(Mutable, unordered, unique elements)\n",
        "\n"
      ],
      "metadata": {
        "id": "-bthqsqlMGCv"
      }
    },
    {
      "cell_type": "code",
      "source": [
        "s = {1, 2, 3}\n",
        "print(s)\n",
        "\n",
        "s.add(4)\n",
        "s.update([5, 6])\n",
        "print(s)\n",
        "\n",
        "s.remove(3)\n",
        "s.discard(5)\n",
        "print(s)\n",
        "\n",
        "\n",
        "\n"
      ],
      "metadata": {
        "colab": {
          "base_uri": "https://localhost:8080/"
        },
        "id": "XX-A_NfsNoyM",
        "outputId": "3623abcf-4efb-41ab-976b-2000f780e9c8"
      },
      "execution_count": null,
      "outputs": [
        {
          "output_type": "stream",
          "name": "stdout",
          "text": [
            "{1, 2, 3}\n",
            "{1, 2, 3, 4, 5, 6}\n",
            "{1, 2, 4, 6}\n"
          ]
        }
      ]
    },
    {
      "cell_type": "markdown",
      "source": [
        "\n",
        "\n",
        "\n",
        "Dictionary(Mutable, unordered, key-value pairs)\n",
        "\n",
        "\n",
        "\n",
        "\n"
      ],
      "metadata": {
        "id": "2g5k-QDvOXhQ"
      }
    },
    {
      "cell_type": "code",
      "source": [
        "\n",
        "d = {'a': 1, 'b': 2, 'c': 3}\n",
        "print(d)\n",
        "\n",
        "d['d'] = 4\n",
        "print(d)\n",
        "\n",
        "del d['b']\n",
        "removed_value = d.pop('c')\n",
        "print(d)\n",
        "\n"
      ],
      "metadata": {
        "colab": {
          "base_uri": "https://localhost:8080/"
        },
        "id": "DB35EcJ9OX1w",
        "outputId": "73ae72f9-7171-4f4a-d672-108373f2633e"
      },
      "execution_count": null,
      "outputs": [
        {
          "output_type": "stream",
          "name": "stdout",
          "text": [
            "{'a': 1, 'b': 2, 'c': 3}\n",
            "{'a': 1, 'b': 2, 'c': 3, 'd': 4}\n",
            "{'a': 1, 'd': 4}\n"
          ]
        }
      ]
    },
    {
      "cell_type": "markdown",
      "source": [],
      "metadata": {
        "id": "BnNpc04SSdyY"
      }
    },
    {
      "cell_type": "markdown",
      "source": [],
      "metadata": {
        "id": "h7W9BpFpS4nJ"
      }
    },
    {
      "cell_type": "markdown",
      "source": [
        "A lambda function :-in Python is a small, anonymous function defined using the lambda keyword. It is often used for short, simple operations where a full function definition with def is not necessary. Lambda functions can have any number of arguments, but only one expression. The result of the expression is automatically returned."
      ],
      "metadata": {
        "id": "YMB_5OhISeYI"
      }
    },
    {
      "cell_type": "code",
      "source": [
        "# Lambda function that adds two numbers\n",
        "add = lambda x, y: x + y\n",
        "\n",
        "# Call the lambda function\n",
        "result = add(5, 3)\n",
        "print(result)\n"
      ],
      "metadata": {
        "colab": {
          "base_uri": "https://localhost:8080/"
        },
        "id": "R_ohyB7fS544",
        "outputId": "348061b6-3f37-4e7d-83c6-7021aa2f5a04"
      },
      "execution_count": 23,
      "outputs": [
        {
          "output_type": "stream",
          "name": "stdout",
          "text": [
            "8\n"
          ]
        }
      ]
    },
    {
      "cell_type": "code",
      "source": [
        "# Using lambda function with map()\n",
        "numbers = [1, 2, 3, 4, 5]\n",
        "squared = list(map(lambda x: x ** 2, numbers))\n",
        "\n",
        "print(squared)  # Output: [1, 4, 9, 16, 25]"
      ],
      "metadata": {
        "colab": {
          "base_uri": "https://localhost:8080/"
        },
        "id": "M5pKh01US_Q9",
        "outputId": "84ac6911-3bc2-4ae0-feb6-eae0f54a1434"
      },
      "execution_count": 24,
      "outputs": [
        {
          "output_type": "stream",
          "name": "stdout",
          "text": [
            "[1, 4, 9, 16, 25]\n"
          ]
        }
      ]
    },
    {
      "cell_type": "code",
      "source": [
        "# Using lambda function with filter()\n",
        "numbers = [1, 2, 3, 4, 5]\n",
        "even_numbers = list(filter(lambda x: x % 2 == 0, numbers))\n",
        "\n",
        "print(even_numbers)  # Output: [2, 4]\n"
      ],
      "metadata": {
        "colab": {
          "base_uri": "https://localhost:8080/"
        },
        "id": "AsmDtzizS_HA",
        "outputId": "5ce5bb7a-91f8-4259-dfae-5c1a034968f9"
      },
      "execution_count": 25,
      "outputs": [
        {
          "output_type": "stream",
          "name": "stdout",
          "text": [
            "[2, 4]\n"
          ]
        }
      ]
    },
    {
      "cell_type": "code",
      "source": [
        "# Using lambda function with sorted()\n",
        "data = [(1, 'one'), (3, 'three'), (2, 'two')]\n",
        "sorted_data = sorted(data, key=lambda x: x[1])\n",
        "\n",
        "print(sorted_data)  # Output: [(1, 'one'), (2, 'two'), (3, 'three')]\n"
      ],
      "metadata": {
        "colab": {
          "base_uri": "https://localhost:8080/"
        },
        "id": "vFyNFFidS-7x",
        "outputId": "cde25761-ccaf-4d01-d909-aab166595102"
      },
      "execution_count": 27,
      "outputs": [
        {
          "output_type": "stream",
          "name": "stdout",
          "text": [
            "[(1, 'one'), (3, 'three'), (2, 'two')]\n"
          ]
        }
      ]
    }
  ]
}