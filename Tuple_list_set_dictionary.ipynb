{
  "nbformat": 4,
  "nbformat_minor": 0,
  "metadata": {
    "colab": {
      "provenance": [],
      "authorship_tag": "ABX9TyPwCweJH71lMXBaw5155POP",
      "include_colab_link": true
    },
    "kernelspec": {
      "name": "python3",
      "display_name": "Python 3"
    },
    "language_info": {
      "name": "python"
    }
  },
  "cells": [
    {
      "cell_type": "markdown",
      "metadata": {
        "id": "view-in-github",
        "colab_type": "text"
      },
      "source": [
        "<a href=\"https://colab.research.google.com/github/anmol8070/Infosys-Project-Work/blob/main/Tuple_list_set_dictionary.ipynb\" target=\"_parent\"><img src=\"https://colab.research.google.com/assets/colab-badge.svg\" alt=\"Open In Colab\"/></a>"
      ]
    },
    {
      "cell_type": "markdown",
      "source": [
        "Tuple (Immutable, ordered)"
      ],
      "metadata": {
        "id": "bJyT4woGMHrI"
      }
    },
    {
      "cell_type": "code",
      "execution_count": 16,
      "metadata": {
        "colab": {
          "base_uri": "https://localhost:8080/"
        },
        "id": "F2VZEP0vK0IL",
        "outputId": "141fd91d-b7db-4945-d2fc-3d7b0fb39191"
      },
      "outputs": [
        {
          "output_type": "stream",
          "name": "stdout",
          "text": [
            "(1, 2, 3)\n",
            "(1, 2, 3, 4)\n",
            "(1,)\n"
          ]
        }
      ],
      "source": [
        "t = (1, 2, 3)\n",
        "print(t)\n",
        "\n",
        "t = t + (4,)\n",
        "print(t)\n",
        "\n",
        "t = t[:1]\n",
        "print(t)\n"
      ]
    },
    {
      "cell_type": "markdown",
      "source": [
        "List (Mutable, ordered)"
      ],
      "metadata": {
        "id": "2wpJIS7hMGxI"
      }
    },
    {
      "cell_type": "code",
      "source": [
        "\n",
        "lst = [1, 2, 3]\n",
        "print(lst)\n",
        "\n",
        "\n",
        "lst.append(4)\n",
        "lst.insert(0, 10)\n",
        "print(lst)\n",
        "\n",
        "lst.remove(10)\n",
        "lst.pop()\n",
        "print(lst)\n",
        "\n",
        "\n",
        "\n"
      ],
      "metadata": {
        "colab": {
          "base_uri": "https://localhost:8080/"
        },
        "id": "mman3q8rMFp6",
        "outputId": "650393df-e262-4d0e-d77b-9e7e14bfb035"
      },
      "execution_count": 27,
      "outputs": [
        {
          "output_type": "stream",
          "name": "stdout",
          "text": [
            "[1, 2, 3]\n",
            "[10, 1, 2, 3, 4]\n",
            "[1, 2, 3]\n"
          ]
        }
      ]
    },
    {
      "cell_type": "markdown",
      "source": [
        "sets(Mutable, unordered, unique elements)\n",
        "\n"
      ],
      "metadata": {
        "id": "-bthqsqlMGCv"
      }
    },
    {
      "cell_type": "code",
      "source": [
        "s = {1, 2, 3}\n",
        "print(s)\n",
        "\n",
        "s.add(4)\n",
        "s.update([5, 6])\n",
        "print(s)\n",
        "\n",
        "s.remove(3)\n",
        "s.discard(5)\n",
        "print(s)\n",
        "\n",
        "\n",
        "\n"
      ],
      "metadata": {
        "colab": {
          "base_uri": "https://localhost:8080/"
        },
        "id": "XX-A_NfsNoyM",
        "outputId": "3623abcf-4efb-41ab-976b-2000f780e9c8"
      },
      "execution_count": 32,
      "outputs": [
        {
          "output_type": "stream",
          "name": "stdout",
          "text": [
            "{1, 2, 3}\n",
            "{1, 2, 3, 4, 5, 6}\n",
            "{1, 2, 4, 6}\n"
          ]
        }
      ]
    },
    {
      "cell_type": "markdown",
      "source": [
        "\n",
        "\n",
        "\n",
        "Dictionary(Mutable, unordered, key-value pairs)\n",
        "\n",
        "\n",
        "\n",
        "\n"
      ],
      "metadata": {
        "id": "2g5k-QDvOXhQ"
      }
    },
    {
      "cell_type": "code",
      "source": [
        "\n",
        "d = {'a': 1, 'b': 2, 'c': 3}\n",
        "print(d)\n",
        "\n",
        "d['d'] = 4\n",
        "print(d)\n",
        "\n",
        "del d['b']\n",
        "removed_value = d.pop('c')\n",
        "print(d)\n",
        "\n"
      ],
      "metadata": {
        "colab": {
          "base_uri": "https://localhost:8080/"
        },
        "id": "DB35EcJ9OX1w",
        "outputId": "73ae72f9-7171-4f4a-d672-108373f2633e"
      },
      "execution_count": 35,
      "outputs": [
        {
          "output_type": "stream",
          "name": "stdout",
          "text": [
            "{'a': 1, 'b': 2, 'c': 3}\n",
            "{'a': 1, 'b': 2, 'c': 3, 'd': 4}\n",
            "{'a': 1, 'd': 4}\n"
          ]
        }
      ]
    }
  ]
}