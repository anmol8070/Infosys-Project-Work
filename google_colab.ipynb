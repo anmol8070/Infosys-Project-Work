{
  "nbformat": 4,
  "nbformat_minor": 0,
  "metadata": {
    "colab": {
      "provenance": [],
      "authorship_tag": "ABX9TyNY8KPqoZtDj/DqH7aBxSD4",
      "include_colab_link": true
    },
    "kernelspec": {
      "name": "python3",
      "display_name": "Python 3"
    },
    "language_info": {
      "name": "python"
    }
  },
  "cells": [
    {
      "cell_type": "markdown",
      "metadata": {
        "id": "view-in-github",
        "colab_type": "text"
      },
      "source": [
        "<a href=\"https://colab.research.google.com/github/anmol8070/Infosys-Project-Work/blob/main/google_colab.ipynb\" target=\"_parent\"><img src=\"https://colab.research.google.com/assets/colab-badge.svg\" alt=\"Open In Colab\"/></a>"
      ]
    },
    {
      "cell_type": "markdown",
      "source": [
        "# **Opps concept in python**"
      ],
      "metadata": {
        "id": "7kseLqRgLJIk"
      }
    },
    {
      "cell_type": "markdown",
      "source": [
        "# 1.Class and Object: A class is a blueprint for objects, and an object is an instance of a class.\n",
        "\n",
        "# 2.Encapsulation: Wrapping data and methods that operate on the data within a class.\n",
        "\n",
        "# 3.Inheritance: Creating new classes from existing ones.\n",
        "\n",
        "# 4.Polymorphism: Allowing methods to behave differently based on the object calling them.\n",
        "\n",
        "# 5.Abstraction: Hiding implementation details and exposing only essential features."
      ],
      "metadata": {
        "id": "LkdHOJD7K_oW"
      }
    },
    {
      "cell_type": "code",
      "source": [
        "# Class and Object Example\n",
        "class Animal:\n",
        "    def __init__(self, name):\n",
        "        self.name = name  # Attribute\n",
        "\n",
        "    def speak(self):\n",
        "        return \"Some sound\"\n",
        "\n",
        "# Create an object (instance)\n",
        "dog = Animal(\"Dog\")\n",
        "print(dog.name)\n",
        "print(dog.speak())\n",
        "\n",
        "\n"
      ],
      "metadata": {
        "colab": {
          "base_uri": "https://localhost:8080/"
        },
        "id": "xOUijTUXKWwe",
        "outputId": "c54cde22-84c8-42ff-ef5f-7fd086308b21"
      },
      "execution_count": null,
      "outputs": [
        {
          "output_type": "stream",
          "name": "stdout",
          "text": [
            "Dog makes a sound: Some sound\n"
          ]
        }
      ]
    },
    {
      "cell_type": "code",
      "source": [
        "# Inheritance Example\n",
        "class Animal:\n",
        "    def __init__(self, name):\n",
        "        self.name = name\n",
        "\n",
        "    def speak(self):\n",
        "        return \"Some sound\"\n",
        "\n",
        "class Dog(Animal):\n",
        "    def speak(self):\n",
        "        return \"Woof!\"\n",
        "dog = Dog(\"Buddy\")\n",
        "print(dog.name)\n",
        "print(dog.speak())\n"
      ],
      "metadata": {
        "colab": {
          "base_uri": "https://localhost:8080/"
        },
        "id": "zBU1YekmPHsF",
        "outputId": "3fd7527d-4c69-4c37-a69e-33e94ce2cb7c"
      },
      "execution_count": null,
      "outputs": [
        {
          "output_type": "stream",
          "name": "stdout",
          "text": [
            "Buddy\n",
            "Woof!\n"
          ]
        }
      ]
    },
    {
      "cell_type": "code",
      "source": [
        "# Polymorphism Example\n",
        "class Dog:\n",
        "    def speak(self):\n",
        "        return \"Woof!\"\n",
        "\n",
        "class Cat:\n",
        "    def speak(self):\n",
        "        return \"Meow!\"\n",
        "\n",
        "dog = Dog()\n",
        "cat = Cat()\n",
        "\n",
        "print(dog.speak())\n",
        "print(cat.speak())\n"
      ],
      "metadata": {
        "colab": {
          "base_uri": "https://localhost:8080/"
        },
        "id": "H79OnH9DPahU",
        "outputId": "cb2dea1e-019d-48e7-920a-6038efc7b691"
      },
      "execution_count": null,
      "outputs": [
        {
          "output_type": "stream",
          "name": "stdout",
          "text": [
            "Woof!\n",
            "Meow!\n"
          ]
        }
      ]
    },
    {
      "cell_type": "code",
      "source": [
        "# Encapsulation Example\n",
        "\n",
        "class Car:\n",
        "    def __init__(self, make, model):\n",
        "        self.make = make\n",
        "        self.__model = model\n",
        "\n",
        "    def get_model(self):\n",
        "        return self.__model\n",
        "\n",
        "    def set_model(self, model):\n",
        "        self.__model = model\n",
        "\n",
        "car = Car(\"Toyota\", \"Corolla\")\n",
        "\n",
        "print(car.make)\n",
        "\n",
        "print(car.get_model())\n",
        "\n",
        "car.set_model(\"Camry\")\n",
        "print(car.get_model())\n"
      ],
      "metadata": {
        "colab": {
          "base_uri": "https://localhost:8080/"
        },
        "id": "_aOWhpeoQGMR",
        "outputId": "5129d06d-64a6-43b9-9838-86c02f2bf692"
      },
      "execution_count": null,
      "outputs": [
        {
          "output_type": "stream",
          "name": "stdout",
          "text": [
            "Toyota\n",
            "Corolla\n",
            "Camry\n"
          ]
        }
      ]
    },
    {
      "cell_type": "code",
      "source": [
        "# Abstraction Example\n",
        "\n",
        "from abc import ABC, abstractmethod\n",
        "\n",
        "# Abstract class\n",
        "class Animal(ABC):\n",
        "    @abstractmethod  # Abstract method\n",
        "    def speak(self):\n",
        "        pass\n",
        "\n",
        "# Concrete class that inherits from the abstract class\n",
        "class Dog(Animal):\n",
        "    def speak(self):  # Implementing the abstract method\n",
        "        return \"Woof!\"\n",
        "\n",
        "class Cat(Animal):\n",
        "    def speak(self):  # Implementing the abstract method\n",
        "        return \"Meow!\"\n",
        "\n",
        "# Create objects of the concrete classes\n",
        "dog = Dog()\n",
        "cat = Cat()\n",
        "\n",
        "# Call the implemented abstract method\n",
        "print(dog.speak())  # Output: Woof!\n",
        "print(cat.speak())  # Output: Meow!\n",
        "\n"
      ],
      "metadata": {
        "colab": {
          "base_uri": "https://localhost:8080/"
        },
        "id": "L9k2KhHmPiWt",
        "outputId": "3f3490cb-f592-4a2a-d4a8-cc16c2fdbbbe"
      },
      "execution_count": null,
      "outputs": [
        {
          "output_type": "stream",
          "name": "stdout",
          "text": [
            "Woof!\n",
            "Meow!\n"
          ]
        }
      ]
    },
    {
      "cell_type": "markdown",
      "source": [
        "# ****Tuple list sets Dictionary****"
      ],
      "metadata": {
        "id": "P1AakoRBRLCM"
      }
    },
    {
      "cell_type": "markdown",
      "source": [
        "# Tuple (Immutable, ordered)"
      ],
      "metadata": {
        "id": "bJyT4woGMHrI"
      }
    },
    {
      "cell_type": "code",
      "execution_count": null,
      "metadata": {
        "colab": {
          "base_uri": "https://localhost:8080/"
        },
        "id": "F2VZEP0vK0IL",
        "outputId": "141fd91d-b7db-4945-d2fc-3d7b0fb39191"
      },
      "outputs": [
        {
          "output_type": "stream",
          "name": "stdout",
          "text": [
            "(1, 2, 3)\n",
            "(1, 2, 3, 4)\n",
            "(1,)\n"
          ]
        }
      ],
      "source": [
        "t = (1, 2, 3)\n",
        "print(t)\n",
        "\n",
        "t = t + (4,)\n",
        "print(t)\n",
        "\n",
        "t = t[:1]\n",
        "print(t)\n"
      ]
    },
    {
      "cell_type": "markdown",
      "source": [
        "# List (Mutable, ordered)"
      ],
      "metadata": {
        "id": "2wpJIS7hMGxI"
      }
    },
    {
      "cell_type": "code",
      "source": [
        "\n",
        "lst = [1, 2, 3]\n",
        "print(lst)\n",
        "\n",
        "\n",
        "lst.append(4)\n",
        "lst.insert(0, 10)\n",
        "print(lst)\n",
        "\n",
        "lst.remove(10)\n",
        "lst.pop()\n",
        "print(lst)\n",
        "\n",
        "\n",
        "\n"
      ],
      "metadata": {
        "colab": {
          "base_uri": "https://localhost:8080/"
        },
        "id": "mman3q8rMFp6",
        "outputId": "650393df-e262-4d0e-d77b-9e7e14bfb035"
      },
      "execution_count": null,
      "outputs": [
        {
          "output_type": "stream",
          "name": "stdout",
          "text": [
            "[1, 2, 3]\n",
            "[10, 1, 2, 3, 4]\n",
            "[1, 2, 3]\n"
          ]
        }
      ]
    },
    {
      "cell_type": "markdown",
      "source": [
        "# sets(Mutable, unordered, unique elements)\n",
        "\n"
      ],
      "metadata": {
        "id": "-bthqsqlMGCv"
      }
    },
    {
      "cell_type": "code",
      "source": [
        "s = {1, 2, 3}\n",
        "print(s)\n",
        "\n",
        "s.add(4)\n",
        "s.update([5, 6])\n",
        "print(s)\n",
        "\n",
        "s.remove(3)\n",
        "s.discard(5)\n",
        "print(s)\n",
        "\n",
        "\n",
        "\n"
      ],
      "metadata": {
        "colab": {
          "base_uri": "https://localhost:8080/"
        },
        "id": "XX-A_NfsNoyM",
        "outputId": "3623abcf-4efb-41ab-976b-2000f780e9c8"
      },
      "execution_count": null,
      "outputs": [
        {
          "output_type": "stream",
          "name": "stdout",
          "text": [
            "{1, 2, 3}\n",
            "{1, 2, 3, 4, 5, 6}\n",
            "{1, 2, 4, 6}\n"
          ]
        }
      ]
    },
    {
      "cell_type": "markdown",
      "source": [
        "\n",
        "\n",
        "\n",
        "# Dictionary(Mutable, unordered, key-value pairs)\n",
        "\n",
        "\n",
        "\n",
        "\n"
      ],
      "metadata": {
        "id": "2g5k-QDvOXhQ"
      }
    },
    {
      "cell_type": "code",
      "source": [
        "\n",
        "d = {'a': 1, 'b': 2, 'c': 3}\n",
        "print(d)\n",
        "\n",
        "d['d'] = 4\n",
        "print(d)\n",
        "\n",
        "del d['b']\n",
        "removed_value = d.pop('c')\n",
        "print(d)\n",
        "\n"
      ],
      "metadata": {
        "colab": {
          "base_uri": "https://localhost:8080/"
        },
        "id": "DB35EcJ9OX1w",
        "outputId": "73ae72f9-7171-4f4a-d672-108373f2633e"
      },
      "execution_count": null,
      "outputs": [
        {
          "output_type": "stream",
          "name": "stdout",
          "text": [
            "{'a': 1, 'b': 2, 'c': 3}\n",
            "{'a': 1, 'b': 2, 'c': 3, 'd': 4}\n",
            "{'a': 1, 'd': 4}\n"
          ]
        }
      ]
    },
    {
      "cell_type": "markdown",
      "source": [],
      "metadata": {
        "id": "BnNpc04SSdyY"
      }
    },
    {
      "cell_type": "markdown",
      "source": [
        "# ****lambda function****"
      ],
      "metadata": {
        "id": "h7W9BpFpS4nJ"
      }
    },
    {
      "cell_type": "markdown",
      "source": [
        "\n",
        "\n",
        "#  ****lambda function :-****in Python is a small, anonymous function defined using the lambda keyword. It is often used for short, simple operations where a full function definition with def is not necessary. Lambda functions can have any number of arguments, but only one expression. The result of the expression is automatically returned."
      ],
      "metadata": {
        "id": "YMB_5OhISeYI"
      }
    },
    {
      "cell_type": "code",
      "source": [
        "# Lambda function that adds two numbers\n",
        "add = lambda x, y: x + y\n",
        "\n",
        "# Call the lambda function\n",
        "result = add(5, 3)\n",
        "print(result)\n"
      ],
      "metadata": {
        "colab": {
          "base_uri": "https://localhost:8080/"
        },
        "id": "R_ohyB7fS544",
        "outputId": "348061b6-3f37-4e7d-83c6-7021aa2f5a04"
      },
      "execution_count": null,
      "outputs": [
        {
          "output_type": "stream",
          "name": "stdout",
          "text": [
            "8\n"
          ]
        }
      ]
    },
    {
      "cell_type": "code",
      "source": [
        "# Using lambda function with map()\n",
        "numbers = [1, 2, 3, 4, 5]\n",
        "squared = list(map(lambda x: x ** 2, numbers))\n",
        "\n",
        "print(squared)  # Output: [1, 4, 9, 16, 25]"
      ],
      "metadata": {
        "colab": {
          "base_uri": "https://localhost:8080/"
        },
        "id": "M5pKh01US_Q9",
        "outputId": "84ac6911-3bc2-4ae0-feb6-eae0f54a1434"
      },
      "execution_count": null,
      "outputs": [
        {
          "output_type": "stream",
          "name": "stdout",
          "text": [
            "[1, 4, 9, 16, 25]\n"
          ]
        }
      ]
    },
    {
      "cell_type": "code",
      "source": [
        "# Using lambda function with filter()\n",
        "numbers = [1, 2, 3, 4, 5]\n",
        "even_numbers = list(filter(lambda x: x % 2 == 0, numbers))\n",
        "\n",
        "print(even_numbers)  # Output: [2, 4]\n"
      ],
      "metadata": {
        "colab": {
          "base_uri": "https://localhost:8080/"
        },
        "id": "AsmDtzizS_HA",
        "outputId": "5ce5bb7a-91f8-4259-dfae-5c1a034968f9"
      },
      "execution_count": null,
      "outputs": [
        {
          "output_type": "stream",
          "name": "stdout",
          "text": [
            "[2, 4]\n"
          ]
        }
      ]
    },
    {
      "cell_type": "code",
      "source": [
        "# Using lambda function with sorted()\n",
        "data = [(1, 'one'), (3, 'three'), (2, 'two')]\n",
        "sorted_data = sorted(data, key=lambda x: x[1])\n",
        "\n",
        "print(sorted_data)  # Output: [(1, 'one'), (2, 'two'), (3, 'three')]\n"
      ],
      "metadata": {
        "colab": {
          "base_uri": "https://localhost:8080/"
        },
        "id": "vFyNFFidS-7x",
        "outputId": "cde25761-ccaf-4d01-d909-aab166595102"
      },
      "execution_count": null,
      "outputs": [
        {
          "output_type": "stream",
          "name": "stdout",
          "text": [
            "[(1, 'one'), (3, 'three'), (2, 'two')]\n"
          ]
        }
      ]
    },
    {
      "cell_type": "markdown",
      "source": [],
      "metadata": {
        "id": "pnSXx1xfh8cb"
      }
    },
    {
      "cell_type": "markdown",
      "source": [
        "# **** **Flask coding question******"
      ],
      "metadata": {
        "id": "SrX-wcJmhnCV"
      }
    },
    {
      "cell_type": "markdown",
      "source": [
        "# How do you create a basic Flask application?"
      ],
      "metadata": {
        "id": "hq4tAEghihZQ"
      }
    },
    {
      "cell_type": "code",
      "source": [
        "from flask import Flask\n",
        "\n",
        "app = Flask(__name__)\n",
        "\n",
        "@app.route('/')\n",
        "def home():\n",
        "    return \"Welcome to Flask!\"\n",
        "\n",
        "if __name__ == '__main__':\n",
        "    app.run(debug=True)"
      ],
      "metadata": {
        "colab": {
          "base_uri": "https://localhost:8080/"
        },
        "id": "v0aVjchLig-a",
        "outputId": "e9df3a07-9aba-487f-dfec-3b578f0a4a86"
      },
      "execution_count": null,
      "outputs": [
        {
          "output_type": "stream",
          "name": "stdout",
          "text": [
            " * Serving Flask app '__main__'\n",
            " * Debug mode: on\n"
          ]
        },
        {
          "output_type": "stream",
          "name": "stderr",
          "text": [
            "INFO:werkzeug:\u001b[31m\u001b[1mWARNING: This is a development server. Do not use it in a production deployment. Use a production WSGI server instead.\u001b[0m\n",
            " * Running on http://127.0.0.1:5000\n",
            "INFO:werkzeug:\u001b[33mPress CTRL+C to quit\u001b[0m\n",
            "INFO:werkzeug: * Restarting with stat\n"
          ]
        }
      ]
    },
    {
      "cell_type": "markdown",
      "source": [
        "# How do you create a dynamic route in Flask?"
      ],
      "metadata": {
        "id": "aWzDxO8Fi14p"
      }
    },
    {
      "cell_type": "code",
      "source": [
        "@app.route('/user/<username>')\n",
        "def show_user(username):\n",
        "    return f\"Hello, {username}!\""
      ],
      "metadata": {
        "id": "ijIBnNf6hsYU"
      },
      "execution_count": null,
      "outputs": []
    },
    {
      "cell_type": "markdown",
      "source": [
        "# How can you render an HTML template in Flask?"
      ],
      "metadata": {
        "id": "2whIpnZFjFDo"
      }
    },
    {
      "cell_type": "code",
      "source": [
        "from flask import Flask, render_template\n",
        "\n",
        "app = Flask(__name__)\n",
        "\n",
        "@app.route('/')\n",
        "def home():\n",
        "    return render_template('index.html')\n",
        "\n",
        "if __name__ == '__main__':\n",
        "    app.run(debug=True)\n",
        "\n"
      ],
      "metadata": {
        "colab": {
          "base_uri": "https://localhost:8080/"
        },
        "id": "bt9r4q8jjEbI",
        "outputId": "d3eef134-5984-4a84-ba01-1b53cccc4980"
      },
      "execution_count": null,
      "outputs": [
        {
          "output_type": "stream",
          "name": "stdout",
          "text": [
            " * Serving Flask app '__main__'\n",
            " * Debug mode: on\n"
          ]
        },
        {
          "output_type": "stream",
          "name": "stderr",
          "text": [
            "INFO:werkzeug:\u001b[31m\u001b[1mWARNING: This is a development server. Do not use it in a production deployment. Use a production WSGI server instead.\u001b[0m\n",
            " * Running on http://127.0.0.1:5000\n",
            "INFO:werkzeug:\u001b[33mPress CTRL+C to quit\u001b[0m\n",
            "INFO:werkzeug: * Restarting with stat\n"
          ]
        }
      ]
    },
    {
      "cell_type": "markdown",
      "source": [
        "# How do you handle POST form data in Flask?"
      ],
      "metadata": {
        "id": "CoGu0vAHjET3"
      }
    },
    {
      "cell_type": "code",
      "source": [
        "from flask import Flask, request\n",
        "\n",
        "app = Flask(__name__)\n",
        "\n",
        "@app.route('/submit', methods=['GET', 'POST'])\n",
        "def submit():\n",
        "    if request.method == 'POST':\n",
        "        name = request.form['name']\n",
        "        return f\"Hello, {name}!\"\n",
        "    return '''\n",
        "        <form method=\"post\">\n",
        "            Name: <input type=\"text\" name=\"name\">\n",
        "            <input type=\"submit\">\n",
        "        </form>\n",
        "    '''\n",
        "\n",
        "if __name__ == '__main__':\n",
        "    app.run(debug=True)\n"
      ],
      "metadata": {
        "colab": {
          "base_uri": "https://localhost:8080/"
        },
        "id": "rQp9mDlXjEMQ",
        "outputId": "8423b145-2403-450e-a8d5-bbd9c7f492f2"
      },
      "execution_count": null,
      "outputs": [
        {
          "output_type": "stream",
          "name": "stdout",
          "text": [
            " * Serving Flask app '__main__'\n",
            " * Debug mode: on\n"
          ]
        },
        {
          "output_type": "stream",
          "name": "stderr",
          "text": [
            "INFO:werkzeug:\u001b[31m\u001b[1mWARNING: This is a development server. Do not use it in a production deployment. Use a production WSGI server instead.\u001b[0m\n",
            " * Running on http://127.0.0.1:5000\n",
            "INFO:werkzeug:\u001b[33mPress CTRL+C to quit\u001b[0m\n",
            "INFO:werkzeug: * Restarting with stat\n"
          ]
        }
      ]
    },
    {
      "cell_type": "markdown",
      "source": [
        "# How do you return a JSON response in Flask?"
      ],
      "metadata": {
        "id": "Jy3poj3DjEDA"
      }
    },
    {
      "cell_type": "code",
      "source": [
        "from flask import Flask, jsonify\n",
        "\n",
        "app = Flask(__name__)\n",
        "\n",
        "@app.route('/api/data')\n",
        "def data():\n",
        "    return jsonify({\"name\": \"Flask\", \"version\": \"2.0\"})\n",
        "\n",
        "if __name__ == '__main__':\n",
        "    app.run(debug=True)\n"
      ],
      "metadata": {
        "colab": {
          "base_uri": "https://localhost:8080/"
        },
        "id": "4LeB40ZEjD5o",
        "outputId": "b9af05ba-58be-48c7-b3be-0cc2f4321d7a"
      },
      "execution_count": null,
      "outputs": [
        {
          "output_type": "stream",
          "name": "stdout",
          "text": [
            " * Serving Flask app '__main__'\n",
            " * Debug mode: on\n"
          ]
        },
        {
          "output_type": "stream",
          "name": "stderr",
          "text": [
            "INFO:werkzeug:\u001b[31m\u001b[1mWARNING: This is a development server. Do not use it in a production deployment. Use a production WSGI server instead.\u001b[0m\n",
            " * Running on http://127.0.0.1:5000\n",
            "INFO:werkzeug:\u001b[33mPress CTRL+C to quit\u001b[0m\n",
            "INFO:werkzeug: * Restarting with stat\n"
          ]
        }
      ]
    },
    {
      "cell_type": "markdown",
      "source": [
        "\n",
        "# How do you use url_for to generate URLs?"
      ],
      "metadata": {
        "id": "8teKWLO4jDx4"
      }
    },
    {
      "cell_type": "code",
      "source": [
        "from flask import Flask, url_for\n",
        "\n",
        "app = Flask(__name__)\n",
        "\n",
        "@app.route('/')\n",
        "def home():\n",
        "    return f'<a href=\"{url_for(\"about\")}\">Go to About Page</a>'\n",
        "\n",
        "@app.route('/about')\n",
        "def about():\n",
        "    return \"This is the About Page!\"\n",
        "\n",
        "if __name__ == '__main__':\n",
        "    app.run(debug=True)\n"
      ],
      "metadata": {
        "colab": {
          "base_uri": "https://localhost:8080/"
        },
        "id": "ybzfoLGJjDo4",
        "outputId": "c17f0c18-9dcd-44a4-f259-7e30621f8ec5"
      },
      "execution_count": null,
      "outputs": [
        {
          "output_type": "stream",
          "name": "stdout",
          "text": [
            " * Serving Flask app '__main__'\n",
            " * Debug mode: on\n"
          ]
        },
        {
          "output_type": "stream",
          "name": "stderr",
          "text": [
            "INFO:werkzeug:\u001b[31m\u001b[1mWARNING: This is a development server. Do not use it in a production deployment. Use a production WSGI server instead.\u001b[0m\n",
            " * Running on http://127.0.0.1:5000\n",
            "INFO:werkzeug:\u001b[33mPress CTRL+C to quit\u001b[0m\n",
            "INFO:werkzeug: * Restarting with stat\n"
          ]
        }
      ]
    },
    {
      "cell_type": "markdown",
      "source": [
        "# How do you handle errors using @app.errorhandler?"
      ],
      "metadata": {
        "id": "dElUc3l-jDQ_"
      }
    },
    {
      "cell_type": "code",
      "source": [
        "@app.errorhandler(404)\n",
        "def not_found(error):\n",
        "    return \"Page not found!\", 404\n"
      ],
      "metadata": {
        "id": "6fJotIhFjC6o"
      },
      "execution_count": null,
      "outputs": []
    },
    {
      "cell_type": "markdown",
      "source": [
        "# How do you use Flask sessions?"
      ],
      "metadata": {
        "id": "iAhHRaV3jCnI"
      }
    },
    {
      "cell_type": "code",
      "source": [
        "from flask import Flask, session\n",
        "\n",
        "app = Flask(__name__)\n",
        "app.secret_key = 'secret'\n",
        "\n",
        "@app.route('/set_session/<name>')\n",
        "def set_session(name):\n",
        "    session['username'] = name\n",
        "    return f\"Session set for {name}!\"\n",
        "\n",
        "@app.route('/get_session')\n",
        "def get_session():\n",
        "    name = session.get('username', 'Guest')\n",
        "    return f\"Hello, {name}!\"\n",
        "\n",
        "if __name__ == '__main__':\n",
        "    app.run(debug=True)\n"
      ],
      "metadata": {
        "colab": {
          "base_uri": "https://localhost:8080/"
        },
        "id": "_YLIE7gNkGWT",
        "outputId": "7991faa2-a635-49c1-84ad-ad2bd329b8a1"
      },
      "execution_count": null,
      "outputs": [
        {
          "output_type": "stream",
          "name": "stdout",
          "text": [
            " * Serving Flask app '__main__'\n",
            " * Debug mode: on\n"
          ]
        },
        {
          "output_type": "stream",
          "name": "stderr",
          "text": [
            "INFO:werkzeug:\u001b[31m\u001b[1mWARNING: This is a development server. Do not use it in a production deployment. Use a production WSGI server instead.\u001b[0m\n",
            " * Running on http://127.0.0.1:5000\n",
            "INFO:werkzeug:\u001b[33mPress CTRL+C to quit\u001b[0m\n",
            "INFO:werkzeug: * Restarting with stat\n"
          ]
        }
      ]
    },
    {
      "cell_type": "markdown",
      "source": [
        "# How do you use query parameters in Flask?"
      ],
      "metadata": {
        "id": "nXEIIKE4kEhk"
      }
    },
    {
      "cell_type": "code",
      "source": [
        "@app.route('/search')\n",
        "def search():\n",
        "    query = request.args.get('q', 'No query provided')\n",
        "    return f\"Search query: {query}\"\n"
      ],
      "metadata": {
        "id": "v_tJiLIvkEIl"
      },
      "execution_count": null,
      "outputs": []
    },
    {
      "cell_type": "markdown",
      "source": [
        "# How do you integrate Flask with a database like SQLite?"
      ],
      "metadata": {
        "id": "bHDHRy7hkECT"
      }
    },
    {
      "cell_type": "code",
      "source": [
        "from flask import Flask, g\n",
        "import sqlite3\n",
        "\n",
        "app = Flask(__name__)\n",
        "\n",
        "DATABASE = 'example.db'\n",
        "\n",
        "def get_db():\n",
        "    db = getattr(g, '_database', None)\n",
        "    if db is None:\n",
        "        db = g._database = sqlite3.connect(DATABASE)\n",
        "    return db\n",
        "\n",
        "@app.route('/users')\n",
        "def users():\n",
        "    db = get_db()\n",
        "    cursor = db.cursor()\n",
        "    cursor.execute(\"SELECT * FROM users\")\n",
        "    users = cursor.fetchall()\n",
        "    return str(users)\n",
        "\n",
        "if __name__ == '__main__':\n",
        "    app.run(debug=True)\n"
      ],
      "metadata": {
        "colab": {
          "base_uri": "https://localhost:8080/"
        },
        "id": "pZ8PdTCQkD8U",
        "outputId": "ed5e30f0-97ae-46fc-d89e-af850c423ef1"
      },
      "execution_count": null,
      "outputs": [
        {
          "output_type": "stream",
          "name": "stdout",
          "text": [
            " * Serving Flask app '__main__'\n",
            " * Debug mode: on\n"
          ]
        },
        {
          "output_type": "stream",
          "name": "stderr",
          "text": [
            "INFO:werkzeug:\u001b[31m\u001b[1mWARNING: This is a development server. Do not use it in a production deployment. Use a production WSGI server instead.\u001b[0m\n",
            " * Running on http://127.0.0.1:5000\n",
            "INFO:werkzeug:\u001b[33mPress CTRL+C to quit\u001b[0m\n",
            "INFO:werkzeug: * Restarting with stat\n"
          ]
        }
      ]
    },
    {
      "cell_type": "markdown",
      "source": [],
      "metadata": {
        "id": "OxxAnvngkD1t"
      }
    },
    {
      "cell_type": "markdown",
      "source": [
        "# ****Django coding questions in Python****"
      ],
      "metadata": {
        "id": "hl3Yy3Ock7HA"
      }
    },
    {
      "cell_type": "code",
      "source": [
        "!pip install django"
      ],
      "metadata": {
        "colab": {
          "base_uri": "https://localhost:8080/"
        },
        "id": "OTUxgEowlhuI",
        "outputId": "413edd47-65cf-4e0a-c211-a874301b2e9c"
      },
      "execution_count": null,
      "outputs": [
        {
          "output_type": "stream",
          "name": "stdout",
          "text": [
            "Requirement already satisfied: django in /usr/local/lib/python3.10/dist-packages (5.1.4)\n",
            "Requirement already satisfied: asgiref<4,>=3.8.1 in /usr/local/lib/python3.10/dist-packages (from django) (3.8.1)\n",
            "Requirement already satisfied: sqlparse>=0.3.1 in /usr/local/lib/python3.10/dist-packages (from django) (0.5.3)\n",
            "Requirement already satisfied: typing-extensions>=4 in /usr/local/lib/python3.10/dist-packages (from asgiref<4,>=3.8.1->django) (4.12.2)\n"
          ]
        }
      ]
    },
    {
      "cell_type": "code",
      "source": [
        "import os\n",
        "\n",
        "# Create directories for the app\n",
        "os.makedirs(\"testapp\", exist_ok=True)\n",
        "\n",
        "# Create empty __init__.py to make it a Python package\n",
        "with open(\"testapp/__init__.py\", \"w\") as f:\n",
        "    f.write(\"\")\n",
        "\n",
        "# Create apps.py for the app\n",
        "with open(\"testapp/apps.py\", \"w\") as f:\n",
        "    f.write(\"\"\"\n",
        "from django.apps import AppConfig\n",
        "\n",
        "class TestAppConfig(AppConfig):\n",
        "    default_auto_field = 'django.db.models.BigAutoField'\n",
        "    name = 'testapp'\n",
        "\"\"\")\n",
        "\n",
        "# Create models.py for the app\n",
        "with open(\"testapp/models.py\", \"w\") as f:\n",
        "    f.write(\"\"\"\n",
        "from django.db import models\n",
        "\n",
        "class Book(models.Model):\n",
        "    title = models.CharField(max_length=100)\n",
        "    author = models.CharField(max_length=100)\n",
        "\"\"\")\n",
        "\n",
        "\n"
      ],
      "metadata": {
        "id": "Cm4ki40QmZF1"
      },
      "execution_count": null,
      "outputs": []
    },
    {
      "cell_type": "markdown",
      "source": [
        "# How do you create a Django view to display \"Hello, World!\"?"
      ],
      "metadata": {
        "id": "rA6wKorIk9JB"
      }
    },
    {
      "cell_type": "code",
      "source": [
        "\n",
        "from django.http import HttpResponse\n",
        "\n",
        "def hello_world(request):\n",
        "    return HttpResponse(\"Hello, World!\")\n"
      ],
      "metadata": {
        "id": "oNDXr6ZXkDu0"
      },
      "execution_count": null,
      "outputs": []
    },
    {
      "cell_type": "markdown",
      "source": [
        "# How do you connect a Django view to a URL?"
      ],
      "metadata": {
        "id": "kCcamyrIkDoc"
      }
    },
    {
      "cell_type": "code",
      "source": [
        "from django.urls import path\n",
        "from .views import hello_world\n",
        "\n",
        "urlpatterns = [\n",
        "    path('hello/', hello_world, name='hello_world'),\n",
        "]"
      ],
      "metadata": {
        "id": "6q8PRgMAkDh8"
      },
      "execution_count": null,
      "outputs": []
    },
    {
      "cell_type": "markdown",
      "source": [
        "# How do you create a Django model for a simple \"Book\" with title and author fields?"
      ],
      "metadata": {
        "id": "Sm6RRuxmkDbM"
      }
    },
    {
      "cell_type": "code",
      "source": [
        "from django.db import models\n",
        "\n",
        "class Book(models.Model):\n",
        "    title = models.CharField(max_length=100)\n",
        "    author = models.CharField(max_length=100\n"
      ],
      "metadata": {
        "id": "D2sy0saNkDUb"
      },
      "execution_count": null,
      "outputs": []
    },
    {
      "cell_type": "markdown",
      "source": [
        "# How do you redirect a user to another URL in Django?"
      ],
      "metadata": {
        "id": "vN1JLuN7kDLc"
      }
    },
    {
      "cell_type": "code",
      "source": [
        "from django.shortcuts import redirect\n",
        "\n",
        "def redirect_to_home(request):\n",
        "    return redirect('home')  # 'home' is the name of another URL pattern\n"
      ],
      "metadata": {
        "id": "TlwHsAvbkC7l"
      },
      "execution_count": null,
      "outputs": []
    },
    {
      "cell_type": "markdown",
      "source": [
        "# How do you add a model to the Django admin panel?"
      ],
      "metadata": {
        "id": "sc68hUu4kCcM"
      }
    },
    {
      "cell_type": "code",
      "source": [
        "from django.contrib import admin\n",
        "from .models import Book\n",
        "\n",
        "admin.site.register(Book)\n"
      ],
      "metadata": {
        "id": "hOdYZ9v9nmxo"
      },
      "execution_count": null,
      "outputs": []
    },
    {
      "cell_type": "markdown",
      "source": [
        "# How do you create a Django form for a \"Contact\" model with name and email fields?"
      ],
      "metadata": {
        "id": "pi8cNQldnyG4"
      }
    },
    {
      "cell_type": "code",
      "source": [
        "from django import forms\n",
        "\n",
        "class ContactForm(forms.Form):\n",
        "    name = forms.CharField(max_length=100)\n",
        "    email = forms.EmailField()\n"
      ],
      "metadata": {
        "id": "uxuPjGrFnxvO"
      },
      "execution_count": null,
      "outputs": []
    },
    {
      "cell_type": "markdown",
      "source": [
        "# How do you query all objects from a model in Django?"
      ],
      "metadata": {
        "id": "AVyGCv8AnxpI"
      }
    },
    {
      "cell_type": "code",
      "source": [
        "all_people = Person.objects.all()\n"
      ],
      "metadata": {
        "id": "gmkYpdKPnxix"
      },
      "execution_count": null,
      "outputs": []
    },
    {
      "cell_type": "markdown",
      "source": [
        "#**** PySpark coding questions****\n",
        "\n",
        "\n",
        "\n"
      ],
      "metadata": {
        "id": "bcQ1af8Vnxbo"
      }
    },
    {
      "cell_type": "code",
      "source": [
        "!pip install pyspark\n"
      ],
      "metadata": {
        "colab": {
          "base_uri": "https://localhost:8080/"
        },
        "id": "kMhQVTejnxUZ",
        "outputId": "5fd6e9a2-da74-40c1-f344-95529da77932"
      },
      "execution_count": null,
      "outputs": [
        {
          "output_type": "stream",
          "name": "stdout",
          "text": [
            "Requirement already satisfied: pyspark in /usr/local/lib/python3.10/dist-packages (3.5.3)\n",
            "Requirement already satisfied: py4j==0.10.9.7 in /usr/local/lib/python3.10/dist-packages (from pyspark) (0.10.9.7)\n"
          ]
        }
      ]
    },
    {
      "cell_type": "markdown",
      "source": [
        "# How do you initialize a Spark session in PySpark?"
      ],
      "metadata": {
        "id": "5T9gvhainxNJ"
      }
    },
    {
      "cell_type": "code",
      "source": [
        "from pyspark.sql import SparkSession\n",
        "\n",
        "# Initialize Spark session\n",
        "spark = SparkSession.builder \\\n",
        "    .appName(\"Simple PySpark Example\") \\\n",
        "    .getOrCreate()\n",
        "\n",
        "print(spark.version)  # To check the Spark version\n"
      ],
      "metadata": {
        "id": "T_hDWga_nxCj"
      },
      "execution_count": null,
      "outputs": []
    },
    {
      "cell_type": "markdown",
      "source": [
        "# How do you create a Spark DataFrame from a list of tuples?"
      ],
      "metadata": {
        "id": "vL-ni_uanw2o"
      }
    },
    {
      "cell_type": "code",
      "source": [
        "from pyspark.sql import SparkSession\n",
        "\n",
        "spark = SparkSession.builder.appName(\"DataFrame Example\").getOrCreate()\n",
        "\n",
        "# List of tuples\n",
        "data = [(\"Alice\", 25), (\"Bob\", 30), (\"Charlie\", 35)]\n",
        "\n",
        "# Define schema\n",
        "columns = [\"Name\", \"Age\"]\n",
        "\n",
        "# Create DataFrame\n",
        "df = spark.createDataFrame(data, columns)\n",
        "\n",
        "# Show the DataFrame\n",
        "df.show()\n"
      ],
      "metadata": {
        "id": "ywGnlnY6pwfo"
      },
      "execution_count": null,
      "outputs": []
    },
    {
      "cell_type": "markdown",
      "source": [
        "# How do you create an RDD from a Python list in PySpark?"
      ],
      "metadata": {
        "id": "jreFI3tjpwZz"
      }
    },
    {
      "cell_type": "code",
      "source": [
        "# Initialize Spark session\n",
        "spark = SparkSession.builder.appName(\"Create RDD\").getOrCreate()\n",
        "\n",
        "# List of numbers\n",
        "numbers = [1, 2, 3, 4, 5]\n",
        "\n",
        "# Create RDD from list\n",
        "rdd = spark.sparkContext.parallelize(numbers)\n",
        "\n",
        "# Collect and print the RDD contents\n",
        "print(rdd.collect())\n"
      ],
      "metadata": {
        "id": "0DHVDBSwpwUA"
      },
      "execution_count": null,
      "outputs": []
    },
    {
      "cell_type": "markdown",
      "source": [
        "# How do you create a PySpark DataFrame by reading a CSV file?"
      ],
      "metadata": {
        "id": "Hc05Sub5pwNw"
      }
    },
    {
      "cell_type": "code",
      "source": [
        "# Read a CSV file into a DataFrame\n",
        "df = spark.read.csv(\"path/to/file.csv\", header=True, inferSchema=True)\n",
        "\n",
        "# Show the first few rows of the DataFrame\n",
        "df.show()\n"
      ],
      "metadata": {
        "id": "2U-slwoarquR"
      },
      "execution_count": null,
      "outputs": []
    },
    {
      "cell_type": "markdown",
      "source": [
        "# How do you remove duplicate rows from a PySpark DataFrame?"
      ],
      "metadata": {
        "id": "MYnqql-brqdL"
      }
    },
    {
      "cell_type": "code",
      "source": [
        "# Remove duplicate rows based on all columns\n",
        "df_no_duplicates = df.dropDuplicates()\n",
        "\n",
        "# Show the DataFrame after removing duplicates\n",
        "df_no_duplicates.show()\n"
      ],
      "metadata": {
        "id": "jE7cONytrtw6"
      },
      "execution_count": null,
      "outputs": []
    },
    {
      "cell_type": "markdown",
      "source": [
        "How do you rename a column in a PySpark DataFrame?"
      ],
      "metadata": {
        "id": "qmfOJznJpwBx"
      }
    },
    {
      "cell_type": "code",
      "source": [
        "# Rename column 'old_name' to 'new_name'\n",
        "df_renamed = df.withColumnRenamed(\"old_name\", \"new_name\")\n",
        "\n",
        "# Show the DataFrame after renaming the column\n",
        "df_renamed.show()\n"
      ],
      "metadata": {
        "id": "iOJ5tJHtruNI"
      },
      "execution_count": null,
      "outputs": []
    },
    {
      "cell_type": "markdown",
      "source": [
        "# How do you sort the rows of a PySpark DataFrame by a specific column?"
      ],
      "metadata": {
        "id": "xfWRWamtpvX4"
      }
    },
    {
      "cell_type": "code",
      "source": [
        "# Sort the DataFrame by the 'Age' column in ascending order\n",
        "sorted_df = df.orderBy(\"Age\")\n",
        "\n",
        "# Show the sorted DataFrame\n",
        "sorted_df.show()\n"
      ],
      "metadata": {
        "id": "eIVpjpKCpumZ"
      },
      "execution_count": null,
      "outputs": []
    },
    {
      "cell_type": "markdown",
      "source": [
        "# How do you check for null or missing values in a PySpark DataFrame?"
      ],
      "metadata": {
        "id": "KBG6ZizYs4cF"
      }
    },
    {
      "cell_type": "code",
      "source": [
        "# Check for missing (null) values in the 'Age' column\n",
        "df.filter(df.Age.isNull()).show()\n"
      ],
      "metadata": {
        "id": "66KtpKpSs4V2"
      },
      "execution_count": null,
      "outputs": []
    }
  ]
}