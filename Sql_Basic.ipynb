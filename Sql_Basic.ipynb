{
  "nbformat": 4,
  "nbformat_minor": 0,
  "metadata": {
    "colab": {
      "provenance": [],
      "authorship_tag": "ABX9TyNvpb0gJcLYRUa9BdKO72r9",
      "include_colab_link": true
    },
    "kernelspec": {
      "name": "python3",
      "display_name": "Python 3"
    },
    "language_info": {
      "name": "python"
    }
  },
  "cells": [
    {
      "cell_type": "markdown",
      "metadata": {
        "id": "view-in-github",
        "colab_type": "text"
      },
      "source": [
        "<a href=\"https://colab.research.google.com/github/anmol8070/Infosys-Project-Work/blob/main/Sql_Basic.ipynb\" target=\"_parent\"><img src=\"https://colab.research.google.com/assets/colab-badge.svg\" alt=\"Open In Colab\"/></a>"
      ]
    },
    {
      "cell_type": "markdown",
      "source": [
        "# 1.What is SQL, and why is it important in data analytics?\n",
        "\n",
        "SQL (Structured Query Language) is a programming language designed for managing and querying data in relational databases.\n",
        "\n",
        "It plays a crucial role in data analytics by enabling analysts and data scientists to access, clean, transform, and analyze large datasets effectively."
      ],
      "metadata": {
        "id": "pX_IVXDjOdje"
      }
    },
    {
      "cell_type": "markdown",
      "source": [
        "# 2.Explain the difference between INNER JOIN, LEFT JOIN, RIGHT JOIN, and FULL OUTER JOIN.\n",
        "\n",
        "**INNER JOIN:** Returns rows with matching values in both tables.\n",
        "\n",
        "**LEFT JOIN:** Returns all rows from the left table and matching rows from the right table (nulls for no match).\n",
        "\n",
        "**RIGHT JOIN:** Like LEFT JOIN, but includes all rows from the right table.\n",
        "\n",
        "**FULL OUTER JOIN:**  Combines LEFT and RIGHT JOIN, showing all records with nulls where no match."
      ],
      "metadata": {
        "id": "1eYaG4EwO9j6"
      }
    },
    {
      "cell_type": "markdown",
      "source": [],
      "metadata": {
        "id": "LjJI_sV0QaP1"
      }
    },
    {
      "cell_type": "markdown",
      "source": [
        "# 3.What is the difference between WHERE and HAVING clauses?\n",
        "\n",
        "**WHERE:** Filters rows before grouping or aggregation occurs. Operates on raw data.\n",
        "\n",
        "**HAVING**: Filters rows after grouping or aggregation. Operates on grouped data or aggregates."
      ],
      "metadata": {
        "id": "OPTfnJqlQkMQ"
      }
    },
    {
      "cell_type": "code",
      "source": [
        "Where:-\n",
        "\n",
        "SELECT * FROM employees WHERE salary > 50000;\n",
        "\n",
        "Having:-\n",
        "\n",
        "SELECT department, SUM(salary) AS total_salary\n",
        "FROM employees\n",
        "GROUP BY department\n",
        "HAVING SUM(salary) > 50000;"
      ],
      "metadata": {
        "id": "l-vS4cXbSH9c"
      },
      "execution_count": null,
      "outputs": []
    },
    {
      "cell_type": "markdown",
      "source": [
        "# 4. How do you use GROUP BY and HAVING in a query?\n",
        "\n",
        "The **GROUP BY** clause is used to organize rows into groups based on one or more columns. It is commonly used with aggregate functions like COUNT(), SUM(), AVG(), etc., to calculate summaries for each group.\n",
        "\n",
        "The **HAVING** clause is used to filter groups created by the GROUP BY clause. Unlike WHERE, which filters rows before grouping, HAVING filters grouped data."
      ],
      "metadata": {
        "id": "Wg7y_6uuRGQB"
      }
    },
    {
      "cell_type": "code",
      "source": [
        "SELECT department, COUNT(employee_id) AS employee_count\n",
        "FROM employees\n",
        "GROUP BY department\n",
        "HAVING COUNT(employee_id) > 10;"
      ],
      "metadata": {
        "id": "GtXjO0hORef4"
      },
      "execution_count": null,
      "outputs": []
    },
    {
      "cell_type": "markdown",
      "source": [
        "# 5. Write a query to find duplicate records in a table.\n",
        "\n",
        "\n",
        "To find duplicate records in a table, you can use the GROUP BY and HAVING clauses in SQL"
      ],
      "metadata": {
        "id": "VTPuJjTETDCg"
      }
    },
    {
      "cell_type": "code",
      "source": [
        " SELECT column_name, COUNT(*)\n",
        "FROM table_name\n",
        "GROUP BY column_name\n",
        "HAVING COUNT(*) > 1;"
      ],
      "metadata": {
        "id": "mXexiemRTCWo"
      },
      "execution_count": null,
      "outputs": []
    },
    {
      "cell_type": "markdown",
      "source": [
        "# 6. How do you retrieve unique values from a table using SQL?\n",
        "\n",
        "To retrieve unique values from a table in SQL, you can use the DISTINCT keyword. This will return only distinct (non-duplicate) values from the specified column(s)."
      ],
      "metadata": {
        "id": "PJ9z62KSUl4U"
      }
    },
    {
      "cell_type": "code",
      "source": [
        "SELECT DISTINCT column_name\n",
        "FROM table_name;\n"
      ],
      "metadata": {
        "id": "C1FIjyl3UxAd"
      },
      "execution_count": null,
      "outputs": []
    },
    {
      "cell_type": "markdown",
      "source": [
        "# 7. Explain the use of aggregate functions like COUNT(), SUM(), AVG(), MIN(), and MAX().\n",
        "\n",
        "**COUNT():** Counts the number of rows (or non-NULL values).\n",
        "\n",
        "**SUM():** Adds up the values in a numeric column.\n",
        "\n",
        "**AVG():** Calculates the average of values in a numeric column.\n",
        "\n",
        "**MIN():** Returns the smallest value from a column.\n",
        "\n",
        "**MAX():** Returns the largest value from a column."
      ],
      "metadata": {
        "id": "STsmOMzTU_RY"
      }
    },
    {
      "cell_type": "code",
      "source": [
        "SELECT COUNT(*) FROM employees;  -- Counts all rows in the table\n",
        "\n",
        "SELECT SUM(salary) FROM employees;  -- Calculates the total salary of all employees\n",
        "\n",
        "SELECT AVG(salary) FROM employees;  -- Calculates the average salary\n",
        "\n",
        "SELECT MIN(salary) FROM employees;  -- Finds the lowest salary\n",
        "\n",
        "SELECT MAX(salary) FROM employees;  -- Finds the highest salary"
      ],
      "metadata": {
        "id": "qR57jc7NV8LQ"
      },
      "execution_count": null,
      "outputs": []
    },
    {
      "cell_type": "markdown",
      "source": [
        "# 8. What is the purpose of a DISTINCT keyword in SQL?\n",
        "\n",
        "The DISTINCT keyword in SQL is used to remove duplicate rows from the result set and return only unique values. It ensures that the query results contain no repeated data for the specified columns."
      ],
      "metadata": {
        "id": "WOe839zYWczV"
      }
    },
    {
      "cell_type": "code",
      "source": [
        "SINGLE COLUMN:-\n",
        "\n",
        "SELECT DISTINCT country FROM customers;\n",
        "\n",
        "MUTIPLE COLUMN:-\n",
        "\n",
        "SELECT DISTINCT first_name, last_name FROM employees;\n",
        "\n"
      ],
      "metadata": {
        "id": "WfY_FduQWwSF"
      },
      "execution_count": null,
      "outputs": []
    }
  ]
}